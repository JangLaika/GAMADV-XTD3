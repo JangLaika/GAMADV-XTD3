{
  "cells": [
    {
      "cell_type": "markdown",
      "metadata": {
        "id": "view-in-github",
        "colab_type": "text"
      },
      "source": [
        "<a href=\"https://colab.research.google.com/github/JangLaika/GAMADV-XTD3/blob/master/google_workspace_reseller_end_to_end_colab.ipynb\" target=\"_parent\"><img src=\"https://colab.research.google.com/assets/colab-badge.svg\" alt=\"Open In Colab\"/></a>"
      ]
    },
    {
      "cell_type": "markdown",
      "metadata": {
        "id": "jUK-zKcxjxFx"
      },
      "source": [
        "# Google Workspace Reseller: End-to-End Customer Provisioning (Colab)\n",
        "\n",
        "> 구성: Reseller API + Site Verification API + Admin SDK Directory API\n",
        "\n",
        "이 노트북은 다음 Codelab 내용을 **Colab** 환경에서 바로 실행할 수 있게 정리했습니다.\n",
        "\n",
        "- 단계 요약 ([공식 문서): 고객 프로비저닝 흐름](https://developers.google.com/workspace/admin/reseller/v1/codelab/end-to-end)\n",
        "  1. **Site Verification API**로 도메인 인증 토큰 생성 (DNS/META)\n",
        "  2. **Reseller API**로 **Customer** 생성\n",
        "  3. **Directory API**로 첫 사용자 생성 후 **Super Admin** 권한 부여\n",
        "  4. **Reseller API**로 **Subscription** 생성\n",
        "  5. **Site Verification API**로 최종 도메인 인증\n",
        "\n",
        "⚠️ **전제 조건**\n",
        "- Google Workspace **리셀러** 계정 & 파트너 계약\n",
        "- Google Cloud 프로젝트에서 **Reseller API**, **Site Verification API**, **Admin SDK** 사용 설정\n",
        "- **도메인 전체 위임(Domain-wide Delegation)**이 활성화된 **서비스 계정 키(JSON)**\n",
        "- 리셀러 슈퍼관리자 이메일 (위임 대상)\n",
        "\n",
        "실행 전, 각 셀의 **환경 변수**를 본인 값으로 바꿔주세요."
      ],
      "id": "jUK-zKcxjxFx"
    },
    {
      "cell_type": "code",
      "metadata": {
        "id": "install_deps"
      },
      "source": [
        "# 1) 라이브러리 설치\n",
        "!pip -q install google-api-python-client google-auth google-auth-httplib2 google-auth-oauthlib"
      ],
      "id": "install_deps",
      "execution_count": null,
      "outputs": []
    },
    {
      "cell_type": "code",
      "metadata": {
        "id": "upload_key",
        "colab": {
          "base_uri": "https://localhost:8080/",
          "height": 148
        },
        "outputId": "afaf13dc-d89e-42dd-9a5b-ccf030468755"
      },
      "source": [
        "from google.colab import files\n",
        "import json\n",
        "\n",
        "print(\"서비스 계정 JSON 키 파일(.json)을 업로드하세요…\")\n",
        "uploaded = files.upload()\n",
        "\n",
        "# 업로드된 파일 중 .json 우선 선택\n",
        "json_files = [name for name in uploaded.keys() if name.lower().endswith(\".json\")]\n",
        "if not json_files:\n",
        "    raise ValueError(\"❌ 업로드된 파일 중 JSON(.json)이 없습니다. 서비스 계정 키 JSON을 업로드하세요.\")\n",
        "\n",
        "SERVICE_ACCOUNT_FILE = json_files[0]\n",
        "print(\"업로드됨:\", SERVICE_ACCOUNT_FILE)\n",
        "\n",
        "# JSON 형식/필수키 검증\n",
        "with open(SERVICE_ACCOUNT_FILE, \"r\", encoding=\"utf-8\") as f:\n",
        "    data = json.load(f)\n",
        "\n",
        "required = {\"type\", \"private_key\", \"client_email\", \"token_uri\"}\n",
        "missing = required - set(data.keys())\n",
        "if missing or data.get(\"type\") != \"service_account\":\n",
        "    raise ValueError(\n",
        "        f\"❌ 서비스 계정 JSON 형식 오류. 누락 키: {missing} \"\n",
        "        f\"또는 type이 'service_account'가 아님.\\n\"\n",
        "        f\"→ Cloud Console에서 서비스 계정 **JSON 키**를 다시 발급해 업로드하세요.\"\n",
        "    )\n",
        "\n",
        "print(\"✅ 서비스 계정 JSON 검증 완료:\", data[\"client_email\"])"
      ],
      "id": "upload_key",
      "execution_count": null,
      "outputs": [
        {
          "output_type": "stream",
          "name": "stdout",
          "text": [
            "서비스 계정 JSON 키 파일(.json)을 업로드하세요…\n"
          ]
        },
        {
          "output_type": "display_data",
          "data": {
            "text/plain": [
              "<IPython.core.display.HTML object>"
            ],
            "text/html": [
              "\n",
              "     <input type=\"file\" id=\"files-d5e2cf72-7eae-4d82-926c-fcac22aa6140\" name=\"files[]\" multiple disabled\n",
              "        style=\"border:none\" />\n",
              "     <output id=\"result-d5e2cf72-7eae-4d82-926c-fcac22aa6140\">\n",
              "      Upload widget is only available when the cell has been executed in the\n",
              "      current browser session. Please rerun this cell to enable.\n",
              "      </output>\n",
              "      <script>// Copyright 2017 Google LLC\n",
              "//\n",
              "// Licensed under the Apache License, Version 2.0 (the \"License\");\n",
              "// you may not use this file except in compliance with the License.\n",
              "// You may obtain a copy of the License at\n",
              "//\n",
              "//      http://www.apache.org/licenses/LICENSE-2.0\n",
              "//\n",
              "// Unless required by applicable law or agreed to in writing, software\n",
              "// distributed under the License is distributed on an \"AS IS\" BASIS,\n",
              "// WITHOUT WARRANTIES OR CONDITIONS OF ANY KIND, either express or implied.\n",
              "// See the License for the specific language governing permissions and\n",
              "// limitations under the License.\n",
              "\n",
              "/**\n",
              " * @fileoverview Helpers for google.colab Python module.\n",
              " */\n",
              "(function(scope) {\n",
              "function span(text, styleAttributes = {}) {\n",
              "  const element = document.createElement('span');\n",
              "  element.textContent = text;\n",
              "  for (const key of Object.keys(styleAttributes)) {\n",
              "    element.style[key] = styleAttributes[key];\n",
              "  }\n",
              "  return element;\n",
              "}\n",
              "\n",
              "// Max number of bytes which will be uploaded at a time.\n",
              "const MAX_PAYLOAD_SIZE = 100 * 1024;\n",
              "\n",
              "function _uploadFiles(inputId, outputId) {\n",
              "  const steps = uploadFilesStep(inputId, outputId);\n",
              "  const outputElement = document.getElementById(outputId);\n",
              "  // Cache steps on the outputElement to make it available for the next call\n",
              "  // to uploadFilesContinue from Python.\n",
              "  outputElement.steps = steps;\n",
              "\n",
              "  return _uploadFilesContinue(outputId);\n",
              "}\n",
              "\n",
              "// This is roughly an async generator (not supported in the browser yet),\n",
              "// where there are multiple asynchronous steps and the Python side is going\n",
              "// to poll for completion of each step.\n",
              "// This uses a Promise to block the python side on completion of each step,\n",
              "// then passes the result of the previous step as the input to the next step.\n",
              "function _uploadFilesContinue(outputId) {\n",
              "  const outputElement = document.getElementById(outputId);\n",
              "  const steps = outputElement.steps;\n",
              "\n",
              "  const next = steps.next(outputElement.lastPromiseValue);\n",
              "  return Promise.resolve(next.value.promise).then((value) => {\n",
              "    // Cache the last promise value to make it available to the next\n",
              "    // step of the generator.\n",
              "    outputElement.lastPromiseValue = value;\n",
              "    return next.value.response;\n",
              "  });\n",
              "}\n",
              "\n",
              "/**\n",
              " * Generator function which is called between each async step of the upload\n",
              " * process.\n",
              " * @param {string} inputId Element ID of the input file picker element.\n",
              " * @param {string} outputId Element ID of the output display.\n",
              " * @return {!Iterable<!Object>} Iterable of next steps.\n",
              " */\n",
              "function* uploadFilesStep(inputId, outputId) {\n",
              "  const inputElement = document.getElementById(inputId);\n",
              "  inputElement.disabled = false;\n",
              "\n",
              "  const outputElement = document.getElementById(outputId);\n",
              "  outputElement.innerHTML = '';\n",
              "\n",
              "  const pickedPromise = new Promise((resolve) => {\n",
              "    inputElement.addEventListener('change', (e) => {\n",
              "      resolve(e.target.files);\n",
              "    });\n",
              "  });\n",
              "\n",
              "  const cancel = document.createElement('button');\n",
              "  inputElement.parentElement.appendChild(cancel);\n",
              "  cancel.textContent = 'Cancel upload';\n",
              "  const cancelPromise = new Promise((resolve) => {\n",
              "    cancel.onclick = () => {\n",
              "      resolve(null);\n",
              "    };\n",
              "  });\n",
              "\n",
              "  // Wait for the user to pick the files.\n",
              "  const files = yield {\n",
              "    promise: Promise.race([pickedPromise, cancelPromise]),\n",
              "    response: {\n",
              "      action: 'starting',\n",
              "    }\n",
              "  };\n",
              "\n",
              "  cancel.remove();\n",
              "\n",
              "  // Disable the input element since further picks are not allowed.\n",
              "  inputElement.disabled = true;\n",
              "\n",
              "  if (!files) {\n",
              "    return {\n",
              "      response: {\n",
              "        action: 'complete',\n",
              "      }\n",
              "    };\n",
              "  }\n",
              "\n",
              "  for (const file of files) {\n",
              "    const li = document.createElement('li');\n",
              "    li.append(span(file.name, {fontWeight: 'bold'}));\n",
              "    li.append(span(\n",
              "        `(${file.type || 'n/a'}) - ${file.size} bytes, ` +\n",
              "        `last modified: ${\n",
              "            file.lastModifiedDate ? file.lastModifiedDate.toLocaleDateString() :\n",
              "                                    'n/a'} - `));\n",
              "    const percent = span('0% done');\n",
              "    li.appendChild(percent);\n",
              "\n",
              "    outputElement.appendChild(li);\n",
              "\n",
              "    const fileDataPromise = new Promise((resolve) => {\n",
              "      const reader = new FileReader();\n",
              "      reader.onload = (e) => {\n",
              "        resolve(e.target.result);\n",
              "      };\n",
              "      reader.readAsArrayBuffer(file);\n",
              "    });\n",
              "    // Wait for the data to be ready.\n",
              "    let fileData = yield {\n",
              "      promise: fileDataPromise,\n",
              "      response: {\n",
              "        action: 'continue',\n",
              "      }\n",
              "    };\n",
              "\n",
              "    // Use a chunked sending to avoid message size limits. See b/62115660.\n",
              "    let position = 0;\n",
              "    do {\n",
              "      const length = Math.min(fileData.byteLength - position, MAX_PAYLOAD_SIZE);\n",
              "      const chunk = new Uint8Array(fileData, position, length);\n",
              "      position += length;\n",
              "\n",
              "      const base64 = btoa(String.fromCharCode.apply(null, chunk));\n",
              "      yield {\n",
              "        response: {\n",
              "          action: 'append',\n",
              "          file: file.name,\n",
              "          data: base64,\n",
              "        },\n",
              "      };\n",
              "\n",
              "      let percentDone = fileData.byteLength === 0 ?\n",
              "          100 :\n",
              "          Math.round((position / fileData.byteLength) * 100);\n",
              "      percent.textContent = `${percentDone}% done`;\n",
              "\n",
              "    } while (position < fileData.byteLength);\n",
              "  }\n",
              "\n",
              "  // All done.\n",
              "  yield {\n",
              "    response: {\n",
              "      action: 'complete',\n",
              "    }\n",
              "  };\n",
              "}\n",
              "\n",
              "scope.google = scope.google || {};\n",
              "scope.google.colab = scope.google.colab || {};\n",
              "scope.google.colab._files = {\n",
              "  _uploadFiles,\n",
              "  _uploadFilesContinue,\n",
              "};\n",
              "})(self);\n",
              "</script> "
            ]
          },
          "metadata": {}
        },
        {
          "output_type": "stream",
          "name": "stdout",
          "text": [
            "Saving sys-21152533756596313446997224-ebb1ddfede05.json to sys-21152533756596313446997224-ebb1ddfede05.json\n",
            "업로드됨: sys-21152533756596313446997224-ebb1ddfede05.json\n",
            "✅ 서비스 계정 JSON 검증 완료: creategoogleworkspacecustomern@sys-21152533756596313446997224.iam.gserviceaccount.com\n"
          ]
        }
      ]
    },
    {
      "cell_type": "code",
      "metadata": {
        "id": "config",
        "colab": {
          "base_uri": "https://localhost:8080/"
        },
        "outputId": "a70d7a61-3afb-449f-8cba-dbd552898ec5"
      },
      "source": [
        "# 3) 구성 변수 설정 — 반드시 본인 환경에 맞게 변경하세요.\n",
        "DELEGATED_ADMIN_EMAIL = 'laika.jang@netkillersoft.com'  # 리셀러 슈퍼관리자(위임 대상)\n",
        "\n",
        "# --- 필수: 대체 이메일을 '이메일 형식'으로 수정 ---\n",
        "ALTERNATE_EMAIL = 'laika.jang@netkillersoft.com'  # 고객 담당자 메일(연락용)\n",
        "# 신규 고객 도메인 & 기본 정보\n",
        "CUSTOMER_DOMAIN = 'laikacreate4.betanetkillersoft.com'\n",
        "# --- 필수: contactName 추가 ---\n",
        "POSTAL_ADDRESS = {\n",
        "    'contactName': 'Laika Jang',             # ← 필수: 담당자명\n",
        "    'organizationName': 'New Customer Inc2.',\n",
        "    'postalCode': '04524',\n",
        "    'region': 'Seoul',                        # 시/도\n",
        "    'countryCode': 'KR',\n",
        "    'locality': 'Jung-gu',                    # 시/군/구\n",
        "    'addressLine1': '123 Example-ro'\n",
        "}\n",
        "\n",
        "# (선택) 전화번호는 국제 형식 권장. 예: +82-2-0000-0000\n",
        "CUSTOMER_PHONE = '+82-2-0000-0000'\n",
        "\n",
        "# 첫 관리자 계정\n",
        "PRIMARY_ADMIN_GIVEN_NAME = 'First'\n",
        "PRIMARY_ADMIN_FAMILY_NAME = 'Admin'\n",
        "PRIMARY_ADMIN_EMAIL = 'admin@' + CUSTOMER_DOMAIN\n",
        "PRIMARY_ADMIN_PASSWORD = 'TempPass!234'  # 초기 임시 비밀번호 정책에 맞게 설정\n",
        "\n",
        "# 구독(SKU/플랜) 설정 예시 (Business Starter Flexible)\n",
        "SKU_ID = '1010020027'  # 필요 시 다른 SKU로 변경\n",
        "SEAT_NUMBER = 1  # 좌석수\n",
        "PLAN = 'TRIAL'  # 'FLEXIBLE' | 'ANNUAL_MONTHLY_PAY' | 'ANNUAL_YEARLY_PAY'\n",
        "PURCHASE_ORDER_ID = 'PO-' + datetime.utcnow().strftime('%Y%m%d%H%M%S')\n",
        "\n"
      ],
      "id": "config",
      "execution_count": null,
      "outputs": [
        {
          "output_type": "stream",
          "name": "stderr",
          "text": [
            "/tmp/ipython-input-1323693637.py:34: DeprecationWarning: datetime.datetime.utcnow() is deprecated and scheduled for removal in a future version. Use timezone-aware objects to represent datetimes in UTC: datetime.datetime.now(datetime.UTC).\n",
            "  PURCHASE_ORDER_ID = 'PO-' + datetime.utcnow().strftime('%Y%m%d%H%M%S')\n"
          ]
        }
      ]
    },
    {
      "cell_type": "code",
      "metadata": {
        "id": "auth_build",
        "colab": {
          "base_uri": "https://localhost:8080/"
        },
        "outputId": "7ff1203f-b765-4c70-ca13-f0c30205c007"
      },
      "source": [
        "# 4) 인증 & 클라이언트 생성\n",
        "from google.oauth2 import service_account\n",
        "from googleapiclient.discovery import build\n",
        "\n",
        "SCOPES = [\n",
        "    'https://www.googleapis.com/auth/apps.order',      # Reseller API\n",
        "    'https://www.googleapis.com/auth/siteverification',# Site Verification API (관리)\n",
        "    'https://www.googleapis.com/auth/admin.directory.user', # Directory API (User 관리)\n",
        "    'https://www.googleapis.com/auth/admin.directory.user.security' # makeAdmin 등에 필요\n",
        "]\n",
        "\n",
        "creds = service_account.Credentials.from_service_account_file(\n",
        "    SERVICE_ACCOUNT_FILE, scopes=SCOPES\n",
        ").with_subject(DELEGATED_ADMIN_EMAIL)  # 도메인 전체 위임\n",
        "\n",
        "reseller = build('reseller', 'v1', credentials=creds)\n",
        "sitever = build('siteVerification', 'v1', credentials=creds)\n",
        "directory = build('admin', 'directory_v1', credentials=creds)\n",
        "\n",
        "print('클라이언트 준비 완료')"
      ],
      "id": "auth_build",
      "execution_count": null,
      "outputs": [
        {
          "output_type": "stream",
          "name": "stdout",
          "text": [
            "클라이언트 준비 완료\n"
          ]
        }
      ]
    },
    {
      "cell_type": "code",
      "metadata": {
        "id": "site_token",
        "colab": {
          "base_uri": "https://localhost:8080/"
        },
        "outputId": "92ad874a-ad55-4bb8-d2ee-6011321a3620"
      },
      "source": [
        "# 5) (선행) Site Verification 토큰 생성 — DNS 또는 META 방식\n",
        "method = 'DNS_TXT'  # 'DNS_TXT' 또는 'META'\n",
        "token_req = {\n",
        "    'verificationMethod': 'DNS_TXT' if method == 'DNS_TXT' else 'META',\n",
        "    'site': {'identifier': CUSTOMER_DOMAIN, 'type': 'INET_DOMAIN'}\n",
        "}\n",
        "token_res = sitever.webResource().getToken(body=token_req).execute()\n",
        "token = token_res.get('token')\n",
        "print('검증 토큰:', token)\n",
        "if method == 'DNS_TXT':\n",
        "    print(f\"\\nDNS TXT 레코드를 추가하세요:\\n  호스트: @ (또는 도메인 루트)\\n  값: {token}\\n  TTL: 300s (권장)\")\n",
        "else:\n",
        "    print(f\"\\n웹 사이트 루트에 META 태그 추가:\\n  <meta name=\\\"google-site-verification\\\" content=\\\"{token}\\\">\\n\")\n",
        "print('\\n토큰 배치 후, 아래 최종 인증 셀을 실행하세요.')"
      ],
      "id": "site_token",
      "execution_count": null,
      "outputs": [
        {
          "output_type": "stream",
          "name": "stdout",
          "text": [
            "검증 토큰: google-site-verification=HDQxfD_wCwh6fBpLWgHgdY2t1Hb8XsAH3mvXQdPyn_w\n",
            "\n",
            "DNS TXT 레코드를 추가하세요:\n",
            "  호스트: @ (또는 도메인 루트)\n",
            "  값: google-site-verification=HDQxfD_wCwh6fBpLWgHgdY2t1Hb8XsAH3mvXQdPyn_w\n",
            "  TTL: 300s (권장)\n",
            "\n",
            "토큰 배치 후, 아래 최종 인증 셀을 실행하세요.\n"
          ]
        }
      ]
    },
    {
      "cell_type": "code",
      "metadata": {
        "id": "create_customer",
        "colab": {
          "base_uri": "https://localhost:8080/"
        },
        "outputId": "a720763a-c1f2-4cc1-a81d-7570c1be8a84"
      },
      "source": [
        "# # 6) Reseller API: Customer 생성\n",
        "# customer_body = {\n",
        "#     'customerDomain': CUSTOMER_DOMAIN,\n",
        "#     'alternateEmail': ALTERNATE_EMAIL,\n",
        "#     'phoneNumber': CUSTOMER_PHONE,\n",
        "#     'postalAddress': POSTAL_ADDRESS\n",
        "# }\n",
        "# try:\n",
        "#     new_customer = reseller.customers().insert(body=customer_body).execute()\n",
        "#     print('고객 생성 완료:\\n', json.dumps(new_customer, indent=2, ensure_ascii=False))\n",
        "#     CUSTOMER_ID = new_customer.get('customerId')\n",
        "# except Exception as e:\n",
        "#     print('고객 생성 중 오류:', e)\n",
        "#     CUSTOMER_ID = None\n",
        "\n",
        "# --- 고객 생성 재시도 ---\n",
        "customer_body = {\n",
        "    'customerDomain': CUSTOMER_DOMAIN,\n",
        "    'alternateEmail': ALTERNATE_EMAIL,\n",
        "    'phoneNumber': CUSTOMER_PHONE,\n",
        "    'postalAddress': POSTAL_ADDRESS\n",
        "}\n",
        "\n",
        "try:\n",
        "    new_customer = reseller.customers().insert(body=customer_body).execute()\n",
        "    print('고객 생성 완료:\\n', json.dumps(new_customer, indent=2, ensure_ascii=False))\n",
        "    CUSTOMER_ID = new_customer.get('customerId')\n",
        "except Exception as e:\n",
        "    print('고객 생성 중 오류:', e)\n",
        "    CUSTOMER_ID = None"
      ],
      "id": "create_customer",
      "execution_count": null,
      "outputs": [
        {
          "output_type": "stream",
          "name": "stdout",
          "text": [
            "고객 생성 중 오류: <HttpError 409 when requesting https://reseller.googleapis.com/apps/reseller/v1/customers?alt=json returned \"Resource already exists\". Details: \"[{'message': 'Resource already exists', 'domain': 'global', 'reason': 'duplicate'}]\">\n"
          ]
        }
      ]
    },
    {
      "cell_type": "code",
      "metadata": {
        "id": "create_user",
        "colab": {
          "base_uri": "https://localhost:8080/"
        },
        "outputId": "827fb0d2-f0be-476c-c0ab-d16d13ca3a98"
      },
      "source": [
        "# 7) Directory API: 첫 사용자 생성 & 관리자 승격\n",
        "user_body = {\n",
        "    'primaryEmail': PRIMARY_ADMIN_EMAIL,\n",
        "    'name': {\n",
        "        'givenName': PRIMARY_ADMIN_GIVEN_NAME,\n",
        "        'familyName': PRIMARY_ADMIN_FAMILY_NAME\n",
        "    },\n",
        "    'password': PRIMARY_ADMIN_PASSWORD\n",
        "}\n",
        "try:\n",
        "    user = directory.users().insert(body=user_body).execute()\n",
        "    print('사용자 생성 완료:', user.get('primaryEmail'))\n",
        "    directory.users().makeAdmin(userKey=PRIMARY_ADMIN_EMAIL, body={'status': True}).execute()\n",
        "    print('관리자 권한 부여 완료')\n",
        "except Exception as e:\n",
        "    print('사용자 생성/관리자 부여 중 오류:', e)"
      ],
      "id": "create_user",
      "execution_count": null,
      "outputs": [
        {
          "output_type": "stream",
          "name": "stdout",
          "text": [
            "사용자 생성 완료: admin@laikacreate4.betanetkillersoft.com\n",
            "관리자 권한 부여 완료\n"
          ]
        }
      ]
    },
    {
      "cell_type": "code",
      "metadata": {
        "id": "create_subscription",
        "colab": {
          "base_uri": "https://localhost:8080/"
        },
        "outputId": "9254b660-d75d-4a1e-9390-a9e17629456b"
      },
      "source": [
        "# 8) Reseller API: 구독 생성\n",
        "if not 'CUSTOMER_ID' in globals() or not CUSTOMER_ID:\n",
        "    print('CUSTOMER_ID 가 없어 구독 생성을 건너뜁니다. 고객 생성 셀을 먼저 성공시켜주세요.')\n",
        "else:\n",
        "    subscription_body = {\n",
        "        'customerId': CUSTOMER_ID,\n",
        "        'skuId': SKU_ID,\n",
        "        'plan': {'planName': PLAN},\n",
        "        'purchaseOrderId': PURCHASE_ORDER_ID,\n",
        "        'seats': {\n",
        "            'numberOfSeats': SEAT_NUMBER\n",
        "        }\n",
        "    }\n",
        "    try:\n",
        "        sub = reseller.subscriptions().insert(customerId=CUSTOMER_ID, body=subscription_body).execute()\n",
        "        print('구독 생성 완료:\\n', json.dumps(sub, indent=2, ensure_ascii=False))\n",
        "        SUBSCRIPTION_ID = sub.get('subscriptionId')\n",
        "    except Exception as e:\n",
        "        print('구독 생성 중 오류:', e)"
      ],
      "id": "create_subscription",
      "execution_count": null,
      "outputs": [
        {
          "output_type": "stream",
          "name": "stdout",
          "text": [
            "구독 생성 중 오류: <HttpError 400 when requesting https://reseller.googleapis.com/apps/reseller/v1/customers/C01fgb0ie/subscriptions?alt=json returned \"The seats provided are not valid\". Details: \"[{'message': 'The seats provided are not valid', 'domain': 'global', 'reason': 'invalid'}]\">\n"
          ]
        }
      ]
    },
    {
      "cell_type": "code",
      "metadata": {
        "id": "final_verification",
        "colab": {
          "base_uri": "https://localhost:8080/"
        },
        "outputId": "804fe5cd-e8af-4390-9217-d725ab15f83c"
      },
      "source": [
        "# 고객 생성 시 출력됐던 ID를 그대로 할당\n",
        "CUSTOMER_ID = \"C01fgb0ie\"\n",
        "\n",
        "print(\"CUSTOMER_ID =\", CUSTOMER_ID)\n",
        "\n",
        "# 9) Site Verification: 최종 인증 (토큰 배치 이후 실행)\n",
        "try:\n",
        "    insert_req = {\n",
        "        'site': {'identifier': CUSTOMER_DOMAIN, 'type': 'INET_DOMAIN'}\n",
        "    }\n",
        "    verified = sitever.webResource().insert(verificationMethod='DNS_TXT', body=insert_req).execute()\n",
        "    print('도메인 인증 완료:\\n', json.dumps(verified, indent=2, ensure_ascii=False))\n",
        "except Exception as e:\n",
        "    print('도메인 인증 중 오류:', e)\n",
        "    print('DNS 전파가 아직 끝나지 않았거나 토큰 배치가 누락되었을 수 있습니다.')"
      ],
      "id": "final_verification",
      "execution_count": null,
      "outputs": [
        {
          "output_type": "stream",
          "name": "stdout",
          "text": [
            "CUSTOMER_ID = C01fgb0ie\n",
            "도메인 인증 중 오류: <HttpError 400 when requesting https://www.googleapis.com/siteVerification/v1/webResource?verificationMethod=DNS_TXT&alt=json returned \"The necessary verification token could not be found on your site.\". Details: \"[{'message': 'The necessary verification token could not be found on your site.', 'domain': 'global', 'reason': 'badRequest'}]\">\n",
            "DNS 전파가 아직 끝나지 않았거나 토큰 배치가 누락되었을 수 있습니다.\n"
          ]
        }
      ]
    },
    {
      "cell_type": "markdown",
      "metadata": {
        "id": "wxEfIYMTjxF0"
      },
      "source": [
        "## 참고 및 체크리스트\n",
        "- Cloud Console에서 API 사용 설정: **Reseller, Site Verification, Admin SDK**\n",
        "- 서비스 계정: **도메인 전체 위임** 활성화, **OAuth 범위** 승인\n",
        "- Reseller API 권한은 **리셀러 도메인** 기준으로 동작합니다.\n",
        "- Site Verification **토큰 배치** 후, DNS 전파 지연(수분~수시간) 가능\n",
        "- 구독 SKU/플랜/좌석 수는 실제 계약/정책에 맞게 조정하세요.\n",
        "\n",
        "문제 해결은 각 API의 오류 메시지와 공식 문서를 참고하세요."
      ],
      "id": "wxEfIYMTjxF0"
    },
    {
      "cell_type": "markdown",
      "source": [
        "1) 고객 상태 확인 (verified 플래그 체크)\n",
        "\n",
        "customerDomainVerified 가 true 로 보이면 인증 상태가 완전히 반영된 것입니다. (전파 중이면 잠시 false일 수 있어요.)"
      ],
      "metadata": {
        "id": "tBHNx0rFpaBZ"
      },
      "id": "tBHNx0rFpaBZ"
    },
    {
      "cell_type": "code",
      "source": [
        "cust = reseller.customers().get(customerId=CUSTOMER_ID).execute()\n",
        "print(\"customerDomainVerified =\", cust.get(\"customerDomainVerified\"))\n",
        "print(json.dumps(cust, indent=2, ensure_ascii=False))"
      ],
      "metadata": {
        "colab": {
          "base_uri": "https://localhost:8080/"
        },
        "id": "thwPE_JipbOt",
        "outputId": "da547743-8358-45c3-bf31-265b76467a33"
      },
      "id": "thwPE_JipbOt",
      "execution_count": null,
      "outputs": [
        {
          "output_type": "stream",
          "name": "stdout",
          "text": [
            "customerDomainVerified = False\n",
            "{\n",
            "  \"kind\": \"reseller#customer\",\n",
            "  \"customerId\": \"C01fgb0ie\",\n",
            "  \"customerDomain\": \"laikacreate4.betanetkillersoft.com\",\n",
            "  \"postalAddress\": {\n",
            "    \"kind\": \"customers#address\",\n",
            "    \"contactName\": \"Laika Jang\",\n",
            "    \"organizationName\": \"New Customer Inc2.\",\n",
            "    \"locality\": \"Jung-gu\",\n",
            "    \"region\": \"Seoul\",\n",
            "    \"postalCode\": \"04524\",\n",
            "    \"countryCode\": \"KR\",\n",
            "    \"addressLine1\": \"123 Example-ro\"\n",
            "  },\n",
            "  \"alternateEmail\": \"laika.jang@netkillersoft.com\",\n",
            "  \"resourceUiUrl\": \"https://admin.google.com/ac/home?ecid=C01fgb0ie\",\n",
            "  \"customerDomainVerified\": false,\n",
            "  \"customerType\": \"domain\"\n",
            "}\n"
          ]
        }
      ]
    },
    {
      "cell_type": "markdown",
      "source": [
        "2) 구독 생성 (Business Starter / FLEXIBLE 예시)\n",
        "\n",
        "흔한 오류 팁\n",
        "\n",
        "400 invalid sku: SKU_ID 문자열이 계약/리전과 안 맞는 경우가 많아요.\n",
        "→ 리셀러 계약서/콘솔에서 가능한 SKU를 확인해 정확한 ID로 넣어주세요. (e.g. Business Standard, Business Plus 등)\n",
        "\n",
        "seats/plan 정책 오류: ANNUAL 플랜은 최소 좌석수/기간 조건이 있어요. 테스트는 FLEXIBLE이 편합니다."
      ],
      "metadata": {
        "id": "2Kl5IcSLpirC"
      },
      "id": "2Kl5IcSLpirC"
    },
    {
      "cell_type": "code",
      "source": [
        "# 정확한 SKU ID (Business Starter)\n",
        "SKU_ID = '1010020027'\n",
        "\n",
        "SEAT_NUMBER = 1  # 체험 최대 좌석(예시). 필요에 맞게 조정\n",
        "PLAN = 'TRIAL'    # 30일 체험\n",
        "\n",
        "from datetime import datetime, timezone\n",
        "PURCHASE_ORDER_ID = 'PO-' + datetime.now(timezone.utc).strftime('%Y%m%d%H%M%S')\n",
        "\n",
        "subscription_body = {\n",
        "    'customerId': CUSTOMER_ID,\n",
        "    'skuId': SKU_ID,\n",
        "    'plan': {'planName': PLAN},\n",
        "    'purchaseOrderId': PURCHASE_ORDER_ID,\n",
        "    'seats': {\n",
        "        'maximumNumberOfSeats': SEAT_NUMBER  # TRIAL/FLEXIBLE은 maximumNumberOfSeats 사용\n",
        "    }\n",
        "}\n",
        "\n",
        "try:\n",
        "    sub = reseller.subscriptions().insert(customerId=CUSTOMER_ID, body=subscription_body).execute()\n",
        "    print('구독 생성 완료:\\n', json.dumps(sub, indent=2, ensure_ascii=False))\n",
        "    SUBSCRIPTION_ID = sub.get('subscriptionId')\n",
        "except Exception as e:\n",
        "    print('구독 생성 중 오류:', e)\n"
      ],
      "metadata": {
        "colab": {
          "base_uri": "https://localhost:8080/"
        },
        "id": "ToZPg4PqpiTl",
        "outputId": "318a2ac3-d4c5-452c-ed06-88e38e5484a7"
      },
      "id": "ToZPg4PqpiTl",
      "execution_count": null,
      "outputs": [
        {
          "output_type": "stream",
          "name": "stdout",
          "text": [
            "구독 생성 완료:\n",
            " {\n",
            "  \"kind\": \"reseller#subscription\",\n",
            "  \"customerId\": \"C01fgb0ie\",\n",
            "  \"subscriptionId\": \"9952488829\",\n",
            "  \"skuId\": \"1010020027\",\n",
            "  \"creationTime\": \"1761203856956\",\n",
            "  \"billingMethod\": \"ONLINE\",\n",
            "  \"plan\": {\n",
            "    \"planName\": \"TRIAL\",\n",
            "    \"isCommitmentPlan\": false\n",
            "  },\n",
            "  \"seats\": {\n",
            "    \"kind\": \"subscriptions#seats\",\n",
            "    \"licensedNumberOfSeats\": 0,\n",
            "    \"maximumNumberOfSeats\": 1\n",
            "  },\n",
            "  \"trialSettings\": {\n",
            "    \"isInTrial\": true,\n",
            "    \"trialEndTime\": \"1763799456847\"\n",
            "  },\n",
            "  \"purchaseOrderId\": \"PO-20251023071733\",\n",
            "  \"status\": \"SUSPENDED\",\n",
            "  \"suspensionReasons\": [\n",
            "    \"PENDING_TOS_ACCEPTANCE\"\n",
            "  ],\n",
            "  \"resourceUiUrl\": \"https://admin.google.com/ac/billing/subscriptions?ecid=C01fgb0ie\",\n",
            "  \"customerDomain\": \"laikacreate4.betanetkillersoft.com\",\n",
            "  \"skuName\": \"Google Workspace Business Starter\"\n",
            "}\n"
          ]
        }
      ]
    }
  ],
  "metadata": {
    "kernelspec": {
      "display_name": "Python 3",
      "language": "python",
      "name": "python3"
    },
    "language_info": {
      "name": "python"
    },
    "colab": {
      "provenance": [],
      "include_colab_link": true
    }
  },
  "nbformat": 4,
  "nbformat_minor": 5
}